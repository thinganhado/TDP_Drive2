{
 "cells": [
  {
   "cell_type": "code",
   "id": "initial_id",
   "metadata": {
    "collapsed": true,
    "ExecuteTime": {
     "end_time": "2024-10-11T13:20:43.329354Z",
     "start_time": "2024-10-11T13:20:43.323467Z"
    }
   },
   "source": [
    "from process.trajectories.db_op import *\n",
    "from crud.user import  get_user_by_id, check_user_exists\n",
    "from crud.trajectory import get_traj_by_user\n",
    "from tqdm import tqdm\n",
    "from process.trajectories.matching_ver2 import *\n",
    "from datetime import datetime\n",
    "from database import Database\n",
    "from process.trajectories.gmapfunction import *"
   ],
   "outputs": [],
   "execution_count": 15
  },
  {
   "metadata": {
    "ExecuteTime": {
     "end_time": "2024-10-11T13:04:18.164693Z",
     "start_time": "2024-10-11T13:04:18.157689Z"
    }
   },
   "cell_type": "code",
   "source": [
    "start_location = (-37.875536, 145.204089)\n",
    "end_location = (-37.803324, 144.997606)\n"
   ],
   "id": "c1231b78bfb2fa57",
   "outputs": [],
   "execution_count": 2
  },
  {
   "metadata": {
    "ExecuteTime": {
     "end_time": "2024-10-11T13:05:55.999910Z",
     "start_time": "2024-10-11T13:05:55.593560Z"
    }
   },
   "cell_type": "code",
   "source": "polylines = get_directions_detail(start_location, end_location)[1]",
   "id": "7de0ffa86f992967",
   "outputs": [],
   "execution_count": 4
  },
  {
   "metadata": {
    "ExecuteTime": {
     "end_time": "2024-10-11T13:24:21.567175Z",
     "start_time": "2024-10-11T13:24:21.384216Z"
    }
   },
   "cell_type": "code",
   "source": "data = gmaps.directions(start_location, end_location,)",
   "id": "21787192afe26b36",
   "outputs": [],
   "execution_count": 17
  },
  {
   "metadata": {
    "ExecuteTime": {
     "end_time": "2024-10-11T13:24:34.707395Z",
     "start_time": "2024-10-11T13:24:34.699963Z"
    }
   },
   "cell_type": "code",
   "source": "data[0][\"overview_polyline\"][\"points\"]",
   "id": "e0a6d97506d852cf",
   "outputs": [
    {
     "data": {
      "text/plain": [
       "'vsdfFybguZn@Jp@B^J\\\\XAaVCiG@qK?kCIYM_@ISGKQMQGUCy@BuJp@qGROQ_BJmEVqCJuEJmNTaJIiCI}DSwFe@aEc@mDg@}E}@eCk@iCm@}@Sk@SQGyLqDeF{AmJuCeIaCoAc@gDw@}Du@gGeAqBYgGy@yEa@sF[eBEwEKiDAm@AaB@c@?gA@yFDaIBuOFqZL{NJaNDyD@iCFaH\\\\iN~@cAJqBDy@FgDR_BHkALqB^m@L{Bp@_AZaCfAuCbBg@ZOF[TURcClBoC`CwHlGkBvA{BdBaB`BcCtCkCxEs@~As@bBO^qAnEi@xBg@|CQlAqAxLe@nDQdAi@fC}@lD_BvE_@dAuBlE}CfG{@tBcArDm@bDSzAM|AKjC?xA@~AHlBb@hEPjA`@nBtAzE|BrHfBdGlBzG~@hDp@tDL~@`@`E\\\\nFR`ERzGHhF@lF?~AElAG|B]`Fe@`F]rCs@rFeIbo@k@xEWjCe@vF_@dHCr@_@pJ]`G]dFo@pHcA`Je@pD}@jFiAhGmAjH[nCM|AQzBQzDK`G_@fKoA|U]|Ea@rGSzDM~E@bABtD@j@XnGZnGDbC?lCEjBKlBOzBSdBi@hDkB|HSt@Wp@iAhFw@xE_@`DUnC{@xJUlBm@|D}@pDY~@aAjCcAzBaBvCeAfBkBrCkDnEyE|FsG`IaDtDqBpBSRaBnAcBbAgD~AoBl@WH_FdAqAVoBh@y@XcBx@_An@gA`Aw@bAo@~@m@jAg@fAc@vAYfA_@tBQfBI`BEdBHdGLpFTtODdEApMEdFC`@GnH?dCBhBJhDVtCTbBvAxG~@vD|@xCvCzHlFjNdArD`AtEJn@d@tCf@hE^zEN~DL~DZbINdCb@nEn@xDb@bBf@bB~@hC\\\\t@l@nAtAdCjB~C|HxLVb@vCxFnAbD|@xCZrA^xBb@lDRjCHnD?dAEdDQxDc@nIMnDUnIGhDCxE@|EHjNNfKHzCXnG`@~G^rGf@hLNjH@rH?pAI|GKhEIjBY~HIfHAxCDxCFnBLtBp@lHb@|Cl@lDjCpLbE~ObBnGb@tBx@xDnApGz@dF\\\\`Dd@xFDfANVB^RhHBdDC~CM|F@rBBd@DNLPLHf@BnCPvCVzBPjEb@xARTcFBg@B_@HqAf@kKHwBZBn@F|@JfGb@dE^^DDgA'"
      ]
     },
     "execution_count": 19,
     "metadata": {},
     "output_type": "execute_result"
    }
   ],
   "execution_count": 19
  },
  {
   "metadata": {},
   "cell_type": "markdown",
   "source": "",
   "id": "a9acb01b625991d6"
  },
  {
   "metadata": {
    "ExecuteTime": {
     "end_time": "2024-10-14T08:27:02.055753Z",
     "start_time": "2024-10-14T08:27:01.414207Z"
    }
   },
   "cell_type": "code",
   "source": [
    "from process.socialalgo.social_algo import *\n",
    "from process.socialalgo.supabase_client import *"
   ],
   "id": "c673980a56473a41",
   "outputs": [],
   "execution_count": 1
  },
  {
   "metadata": {
    "ExecuteTime": {
     "end_time": "2024-10-14T08:27:02.562326Z",
     "start_time": "2024-10-14T08:27:02.056862Z"
    }
   },
   "cell_type": "code",
   "source": "calculate_social_similarity(1106)",
   "id": "fd7c83cdb4f5860e",
   "outputs": [
    {
     "name": "stdout",
     "output_type": "stream",
     "text": [
      "Connection to the PostgreSQL database successful!\n",
      "Database connection closed.\n",
      "get_matched_user_ids()\n",
      "Connection to the PostgreSQL database successful!\n",
      "Database connection closed.\n",
      "get_ratings_for_users\n",
      "Connection to the PostgreSQL database successful!\n",
      "Database connection closed.\n",
      "get_ratings_for_logged_in_user()\n"
     ]
    },
    {
     "data": {
      "text/plain": [
       "[(1178, 0.9999965326174837), (1303, 0.9999945811792543)]"
      ]
     },
     "execution_count": 2,
     "metadata": {},
     "output_type": "execute_result"
    }
   ],
   "execution_count": 2
  },
  {
   "metadata": {
    "ExecuteTime": {
     "end_time": "2024-10-14T08:24:16.122808Z",
     "start_time": "2024-10-14T08:24:16.112609Z"
    }
   },
   "cell_type": "code",
   "source": "df_matched_users",
   "id": "dd0cd0f007f830ff",
   "outputs": [
    {
     "data": {
      "text/plain": [
       "   0  1  2  3  4     5\n",
       "0  3  2  2  4  5  1178\n",
       "1  4  4  5  5  5  1303"
      ],
      "text/html": [
       "<div>\n",
       "<style scoped>\n",
       "    .dataframe tbody tr th:only-of-type {\n",
       "        vertical-align: middle;\n",
       "    }\n",
       "\n",
       "    .dataframe tbody tr th {\n",
       "        vertical-align: top;\n",
       "    }\n",
       "\n",
       "    .dataframe thead th {\n",
       "        text-align: right;\n",
       "    }\n",
       "</style>\n",
       "<table border=\"1\" class=\"dataframe\">\n",
       "  <thead>\n",
       "    <tr style=\"text-align: right;\">\n",
       "      <th></th>\n",
       "      <th>0</th>\n",
       "      <th>1</th>\n",
       "      <th>2</th>\n",
       "      <th>3</th>\n",
       "      <th>4</th>\n",
       "      <th>5</th>\n",
       "    </tr>\n",
       "  </thead>\n",
       "  <tbody>\n",
       "    <tr>\n",
       "      <th>0</th>\n",
       "      <td>3</td>\n",
       "      <td>2</td>\n",
       "      <td>2</td>\n",
       "      <td>4</td>\n",
       "      <td>5</td>\n",
       "      <td>1178</td>\n",
       "    </tr>\n",
       "    <tr>\n",
       "      <th>1</th>\n",
       "      <td>4</td>\n",
       "      <td>4</td>\n",
       "      <td>5</td>\n",
       "      <td>5</td>\n",
       "      <td>5</td>\n",
       "      <td>1303</td>\n",
       "    </tr>\n",
       "  </tbody>\n",
       "</table>\n",
       "</div>"
      ]
     },
     "execution_count": 16,
     "metadata": {},
     "output_type": "execute_result"
    }
   ],
   "execution_count": 16
  },
  {
   "metadata": {
    "ExecuteTime": {
     "end_time": "2024-10-14T08:23:31.091824Z",
     "start_time": "2024-10-14T08:23:31.085857Z"
    }
   },
   "cell_type": "code",
   "source": "user_rating",
   "id": "63b9b34c50a6c898",
   "outputs": [
    {
     "data": {
      "text/plain": [
       "array([1, 4, 2, 3, 5], dtype=int64)"
      ]
     },
     "execution_count": 14,
     "metadata": {},
     "output_type": "execute_result"
    }
   ],
   "execution_count": 14
  },
  {
   "metadata": {
    "ExecuteTime": {
     "end_time": "2024-10-14T08:24:21.524333Z",
     "start_time": "2024-10-14T08:24:21.518839Z"
    }
   },
   "cell_type": "code",
   "source": "similarities",
   "id": "d721fc8501a39aab",
   "outputs": [
    {
     "data": {
      "text/plain": [
       "[(1178, 0.9999965326174837), (1303, 0.9999945811792543)]"
      ]
     },
     "execution_count": 17,
     "metadata": {},
     "output_type": "execute_result"
    }
   ],
   "execution_count": 17
  }
 ],
 "metadata": {
  "kernelspec": {
   "display_name": "Python 3",
   "language": "python",
   "name": "python3"
  },
  "language_info": {
   "codemirror_mode": {
    "name": "ipython",
    "version": 2
   },
   "file_extension": ".py",
   "mimetype": "text/x-python",
   "name": "python",
   "nbconvert_exporter": "python",
   "pygments_lexer": "ipython2",
   "version": "2.7.6"
  }
 },
 "nbformat": 4,
 "nbformat_minor": 5
}
